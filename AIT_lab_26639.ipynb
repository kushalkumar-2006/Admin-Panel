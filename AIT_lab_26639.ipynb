{
  "nbformat": 4,
  "nbformat_minor": 0,
  "metadata": {
    "colab": {
      "provenance": [],
      "name": "AIT_lab_26639.ipynb",
      "authorship_tag": "ABX9TyNd5YchQKuwWyUSSb12OKLT",
      "include_colab_link": true
    },
    "kernelspec": {
      "name": "python3",
      "display_name": "Python 3"
    },
    "language_info": {
      "name": "python"
    }
  },
  "cells": [
    {
      "cell_type": "markdown",
      "metadata": {
        "id": "view-in-github",
        "colab_type": "text"
      },
      "source": [
        "<a href=\"https://colab.research.google.com/github/kushalkumar-2006/Admin-Panel/blob/main/AIT_lab_26639.ipynb\" target=\"_parent\"><img src=\"https://colab.research.google.com/assets/colab-badge.svg\" alt=\"Open In Colab\"/></a>"
      ]
    },
    {
      "cell_type": "markdown",
      "source": [
        "TASK 7:\n"
      ],
      "metadata": {
        "id": "uVIW2Hr9ONcg"
      }
    },
    {
      "cell_type": "code",
      "execution_count": null,
      "metadata": {
        "colab": {
          "base_uri": "https://localhost:8080/"
        },
        "id": "C6ijateWDMQj",
        "outputId": "d5b82768-48fe-4137-f95b-d31fafb92b7f"
      },
      "outputs": [
        {
          "output_type": "stream",
          "name": "stdout",
          "text": [
            "Monkey-Banana Planning Actions:\n",
            "▶ Walk from door to window\n",
            "▶ Push box from window to middle\n",
            "\n",
            "Final State:\n",
            "monkey_location: middle\n",
            "box_location: middle\n",
            "monkey_on_box: False\n",
            "monkey_has_banana: False\n"
          ]
        }
      ],
      "source": [
        "state = {\n",
        "    'monkey_location': 'door',\n",
        "    'box_location': 'window',\n",
        "    'monkey_on_box': False,\n",
        "    'monkey_has_banana': False\n",
        "}\n",
        "\n",
        "goal_stack = ['has(monkey, banana)']\n",
        "actions = []\n",
        "\n",
        "def walk(x, y):\n",
        "    state['monkey_location'] = y\n",
        "    actions.append(f\"Walk from {x} to {y}\")\n",
        "\n",
        "def push(x, y):\n",
        "    state['monkey_location'] = y\n",
        "    state['box_location'] = y\n",
        "    actions.append(f\"Push box from {x} to {y}\")\n",
        "\n",
        "def climb_up():\n",
        "    state['monkey_on_box'] = True\n",
        "    actions.append(\"Climb up the box\")\n",
        "\n",
        "def grasp():\n",
        "    state['monkey_has_banana'] = True\n",
        "    actions.append(\"Grasp the banana\")\n",
        "\n",
        "while goal_stack:\n",
        "    goal = goal_stack.pop()\n",
        "\n",
        "    if goal == 'has(monkey, banana)':\n",
        "        if not state['monkey_has_banana']:\n",
        "            goal_stack.append('perform(grasp)')\n",
        "            goal_stack.append('at(monkey, middle)')\n",
        "            goal_stack.append('on(monkey, box)')\n",
        "\n",
        "    elif goal == 'perform(grasp)':\n",
        "        if state['monkey_location'] == 'middle' and state['monkey_on_box']:\n",
        "            grasp()\n",
        "\n",
        "    elif goal == 'on(monkey, box)':\n",
        "        if not state['monkey_on_box']:\n",
        "            if state['monkey_location'] == state['box_location']:\n",
        "                goal_stack.append('perform(climb_up)')\n",
        "            else:\n",
        "                goal_stack.append(f'at(monkey, {state[\"box_location\"]})')\n",
        "\n",
        "    elif goal == 'perform(climb_up)':\n",
        "        climb_up()\n",
        "\n",
        "    elif goal.startswith('at(monkey,'):\n",
        "        target = goal.split(',')[1].strip(' )')\n",
        "        if state['monkey_location'] != target:\n",
        "            if state['monkey_location'] == state['box_location']:\n",
        "                push(state['box_location'], target)\n",
        "            else:\n",
        "                walk(state['monkey_location'], target)\n",
        "\n",
        "print(\"Monkey-Banana Planning Actions:\")\n",
        "for step in actions:\n",
        "    print(\"▶\", step)\n",
        "\n",
        "print(\"\\nFinal State:\")\n",
        "for key, value in state.items():\n",
        "    print(f\"{key}: {value}\")\n"
      ]
    },
    {
      "cell_type": "markdown",
      "source": [
        "TASK 5:"
      ],
      "metadata": {
        "id": "CyhkEjDNM-ha"
      }
    },
    {
      "cell_type": "code",
      "source": [
        "import random\n",
        "import numpy as np\n",
        "\n",
        "# Distance matrix (simulated travel time between delivery points)\n",
        "distance_matrix = [\n",
        "    [0, 2, 2, 5, 7],\n",
        "    [2, 0, 4, 8, 2],\n",
        "    [2, 4, 0, 1, 3],\n",
        "    [5, 8, 1, 0, 2],\n",
        "    [7, 2, 3, 2, 0]\n",
        "]\n",
        "\n",
        "num_ants = 5\n",
        "num_cities = len(distance_matrix)\n",
        "num_iterations = 100\n",
        "evaporation_rate = 0.5\n",
        "alpha = 1  # pheromone importance\n",
        "beta = 2   # distance importance\n",
        "\n",
        "# Initialize pheromone levels\n",
        "pheromone = [[1 for _ in range(num_cities)] for _ in range(num_cities)]\n",
        "\n",
        "def calculate_probability(from_city, to_city, visited):\n",
        "    if to_city in visited:\n",
        "        return 0\n",
        "    pher = pheromone[from_city][to_city] ** alpha\n",
        "    heuristic = (1 / distance_matrix[from_city][to_city]) ** beta\n",
        "    return pher * heuristic\n",
        "\n",
        "def select_next_city(current_city, visited):\n",
        "    probabilities = [calculate_probability(current_city, i, visited) for i in range(num_cities)]\n",
        "    total = sum(probabilities)\n",
        "    if total == 0:\n",
        "        return random.choice([i for i in range(num_cities) if i not in visited])\n",
        "    probabilities = [p / total for p in probabilities]\n",
        "    return np.random.choice(range(num_cities), p=probabilities)\n",
        "\n",
        "def build_solution():\n",
        "    solutions = []\n",
        "    for _ in range(num_ants):\n",
        "        visited = []\n",
        "        current_city = random.randint(0, num_cities - 1)\n",
        "        visited.append(current_city)\n",
        "\n",
        "        while len(visited) < num_cities:\n",
        "            next_city = select_next_city(current_city, visited)\n",
        "            visited.append(next_city)\n",
        "            current_city = next_city\n",
        "\n",
        "        solutions.append(visited)\n",
        "    return solutions\n",
        "\n",
        "def route_distance(route):\n",
        "    return sum(distance_matrix[route[i]][route[i + 1]] for i in range(len(route) - 1)) + distance_matrix[route[-1]][route[0]]\n",
        "\n",
        "def update_pheromones(solutions):\n",
        "    global pheromone\n",
        "    # Evaporate pheromone\n",
        "    for i in range(num_cities):\n",
        "        for j in range(num_cities):\n",
        "            pheromone[i][j] *= (1 - evaporation_rate)\n",
        "\n",
        "    # Add new pheromone based on solutions\n",
        "    for route in solutions:\n",
        "        dist = route_distance(route)\n",
        "        for i in range(num_cities):\n",
        "            from_city = route[i]\n",
        "            to_city = route[(i + 1) % num_cities]\n",
        "            pheromone[from_city][to_city] += 1.0 / dist\n",
        "\n",
        "best_route = None\n",
        "best_distance = float('inf')\n",
        "\n",
        "for _ in range(num_iterations):\n",
        "    solutions = build_solution()\n",
        "    update_pheromones(solutions)\n",
        "\n",
        "    for route in solutions:\n",
        "        dist = route_distance(route)\n",
        "        if dist < best_distance:\n",
        "            best_distance = dist\n",
        "            best_route = route\n",
        "\n",
        "print(\"Best route found:\", best_route)\n",
        "print(\"Total trip duration:\", best_distance)"
      ],
      "metadata": {
        "id": "jiXdh-SyNlIh",
        "outputId": "ef14a0c7-230f-4612-a572-12b80cd9dc2a",
        "colab": {
          "base_uri": "https://localhost:8080/"
        }
      },
      "execution_count": 1,
      "outputs": [
        {
          "output_type": "stream",
          "name": "stdout",
          "text": [
            "Best route found: [1, np.int64(0), np.int64(2), np.int64(3), np.int64(4)]\n",
            "Total trip duration: 9\n"
          ]
        }
      ]
    }
  ]
}